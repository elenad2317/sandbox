{
 "cells": [
  {
   "cell_type": "code",
   "execution_count": 1,
   "metadata": {
    "collapsed": false
   },
   "outputs": [],
   "source": [
    "import uuid \n",
    "import random\n",
    "import hyperloglog\n",
    "import pickle\n",
    "from cassandra.cluster import Cluster\n",
    "import unittest\n",
    "import redis"
   ]
  },
  {
   "cell_type": "code",
   "execution_count": 15,
   "metadata": {
    "collapsed": true
   },
   "outputs": [],
   "source": [
    "Redis = redis.StrictRedis(host='localhost', port = 6379, db = 0)"
   ]
  },
  {
   "cell_type": "code",
   "execution_count": 19,
   "metadata": {
    "collapsed": false
   },
   "outputs": [
    {
     "data": {
      "text/plain": [
       "str"
      ]
     },
     "execution_count": 19,
     "metadata": {},
     "output_type": "execute_result"
    }
   ],
   "source": [
    "Redis.set('foo', ['bar1', 'bar2'])\n",
    "t = Redis.get('foo')\n",
    "type(t)"
   ]
  },
  {
   "cell_type": "code",
   "execution_count": 47,
   "metadata": {
    "collapsed": false
   },
   "outputs": [],
   "source": [
    "class RedisFramework: \n",
    "    def __init__(self): \n",
    "        self.user_group = {}\n",
    "        self.uR = redis.StrictRedis(host = 'localhost', port = 6379, db = 0 )\n",
    "        self.hllR = redis.StrictRedis(host = 'localhost', port = 6379, db = 0 )\n",
    "        ### initialize user_group\n",
    "        for i in range(100):\n",
    "            self.user_group[i] = []\n",
    "\n",
    "        self.group_hll = {}\n",
    "        self.actual_hll = {}\n",
    "        self.thresholds = [float(random.randint(20, 80))/100 for i in range(100)]\n",
    "        \n",
    "    def INSERT(self):\n",
    "        for j in range(100000):\n",
    "            uid = uuid.uuid4()\n",
    "            r = random.random()\n",
    "            for i in range(100):\n",
    "                if r > self.thresholds[i]: \n",
    "                    self.user_group[int(i)].append(str(uid))\n",
    "        \n",
    "\n",
    "        for key in self.user_group: \n",
    "            self.uR.set(key, self.user_group[key])\n",
    "            hll = hyperloglog.HyperLogLog(0.01)\n",
    "            users = self.user_group[key]\n",
    "            self.actual_hll[key] = len(users)\n",
    "            for user in users:\n",
    "                hll.add(str(user))\n",
    "            pickled = pickle.dumps(hll)\n",
    "            self.hllR.set(key, pickled)\n",
    "    \n",
    "    def GETHLLCARDINALITY(self, groupID):\n",
    "        pickled = self.hllR.get(groupID)\n",
    "        return len(pickle.loads(pickled))\n",
    "    \n",
    "    def GETTRUECARDINALITY(self, groupID):\n",
    "        return self.actual_hll[groupID]\n",
    "\n",
    "                "
   ]
  },
  {
   "cell_type": "markdown",
   "metadata": {},
   "source": [
    "Get thresholds for groups (between 20 and 80 %)"
   ]
  },
  {
   "cell_type": "code",
   "execution_count": 48,
   "metadata": {
    "collapsed": false
   },
   "outputs": [],
   "source": [
    "class testCardinalityErrorRates(unittest.TestCase):\n",
    "    def lessThan10Error(self): \n",
    "        for error in x: \n",
    "            self.assertTrue(error < .1)"
   ]
  },
  {
   "cell_type": "code",
   "execution_count": 49,
   "metadata": {
    "collapsed": false
   },
   "outputs": [],
   "source": [
    "rtest = RedisFramework()"
   ]
  },
  {
   "cell_type": "code",
   "execution_count": 50,
   "metadata": {
    "collapsed": false
   },
   "outputs": [],
   "source": [
    "rtest.INSERT()"
   ]
  },
  {
   "cell_type": "code",
   "execution_count": 51,
   "metadata": {
    "collapsed": false
   },
   "outputs": [
    {
     "data": {
      "text/plain": [
       "33285"
      ]
     },
     "execution_count": 51,
     "metadata": {},
     "output_type": "execute_result"
    }
   ],
   "source": [
    "rtest.GETHLLCARDINALITY(10)"
   ]
  },
  {
   "cell_type": "code",
   "execution_count": 52,
   "metadata": {
    "collapsed": false
   },
   "outputs": [
    {
     "data": {
      "text/plain": [
       "33043"
      ]
     },
     "execution_count": 52,
     "metadata": {},
     "output_type": "execute_result"
    }
   ],
   "source": [
    "rtest.GETTRUECARDINALITY(10)"
   ]
  },
  {
   "cell_type": "markdown",
   "metadata": {},
   "source": [
    "# CASSIE"
   ]
  },
  {
   "cell_type": "code",
   "execution_count": 2,
   "metadata": {
    "collapsed": false
   },
   "outputs": [],
   "source": [
    "cluster = Cluster()\n",
    "metadata= cluster.metadata\n",
    "session= cluster.connect()\n"
   ]
  },
  {
   "cell_type": "code",
   "execution_count": 4,
   "metadata": {
    "collapsed": false
   },
   "outputs": [],
   "source": [
    "keyname = \"newkeyspace\"\n",
    "session.execute(\"CREATE KEYSPACE IF NOT EXISTS \"+keyname +\n",
    "                \" WITH replication = {'class':'SimpleStrategy', 'replication_factor':1};\")"
   ]
  },
  {
   "cell_type": "code",
   "execution_count": 36,
   "metadata": {
    "collapsed": false
   },
   "outputs": [],
   "source": [
    "session.set_keyspace(keyname)\n",
    "mytable = \"test\"\n",
    "#session.execute(\"CREATE TABLE users (id int PRIMARY KEY, location address)\")\n",
    "session.execute(\" CREATE TABLE  \" + mytable+\n",
    "                \" (groupID int PRIMARY KEY, userGroups set<uuid>, hll text);\")"
   ]
  },
  {
   "cell_type": "code",
   "execution_count": 39,
   "metadata": {
    "collapsed": false
   },
   "outputs": [
    {
     "ename": "SyntaxException",
     "evalue": "<ErrorMessage code=2000 [Syntax error in CQL query] message=\"line 2:64 missing EOF at ','\">",
     "output_type": "error",
     "traceback": [
      "\u001b[1;31m---------------------------------------------------------------------------\u001b[0m",
      "\u001b[1;31mSyntaxException\u001b[0m                           Traceback (most recent call last)",
      "\u001b[1;32m<ipython-input-39-b38cb3d59aa5>\u001b[0m in \u001b[0;36m<module>\u001b[1;34m()\u001b[0m\n\u001b[0;32m      7\u001b[0m     \u001b[0mVALUES\u001b[0m \u001b[1;33m(\u001b[0m\u001b[1;33m%\u001b[0m\u001b[1;33m(\u001b[0m\u001b[0mgroupID\u001b[0m\u001b[1;33m)\u001b[0m\u001b[0ms\u001b[0m\u001b[1;33m,\u001b[0m \u001b[1;33m%\u001b[0m\u001b[1;33m(\u001b[0m\u001b[0muserGroups\u001b[0m\u001b[1;33m)\u001b[0m\u001b[0ms\u001b[0m\u001b[1;33m,\u001b[0m \u001b[1;33m%\u001b[0m\u001b[1;33m(\u001b[0m\u001b[0mhll\u001b[0m\u001b[1;33m)\u001b[0m\u001b[0ms\u001b[0m\u001b[1;33m)\u001b[0m\u001b[1;33m\u001b[0m\u001b[0m\n\u001b[0;32m      8\u001b[0m     \"\"\", \n\u001b[1;32m----> 9\u001b[1;33m     \u001b[1;33m{\u001b[0m\u001b[1;34m'groupID'\u001b[0m\u001b[1;33m:\u001b[0m\u001b[0mkey\u001b[0m\u001b[1;33m,\u001b[0m \u001b[1;34m'userGroups'\u001b[0m\u001b[1;33m:\u001b[0m\u001b[0md\u001b[0m\u001b[1;33m[\u001b[0m\u001b[0mkey\u001b[0m\u001b[1;33m]\u001b[0m\u001b[1;33m,\u001b[0m \u001b[1;34m'hll'\u001b[0m\u001b[1;33m:\u001b[0m\u001b[0mpickled\u001b[0m \u001b[1;33m}\u001b[0m\u001b[1;33m\u001b[0m\u001b[0m\n\u001b[0m\u001b[0;32m     10\u001b[0m     )\n",
      "\u001b[1;32m/usr/local/lib/python2.7/dist-packages/cassandra/cluster.pyc\u001b[0m in \u001b[0;36mexecute\u001b[1;34m(self, query, parameters, timeout, trace)\u001b[0m\n\u001b[0;32m   1403\u001b[0m         \u001b[0mfuture\u001b[0m \u001b[1;33m=\u001b[0m \u001b[0mself\u001b[0m\u001b[1;33m.\u001b[0m\u001b[0mexecute_async\u001b[0m\u001b[1;33m(\u001b[0m\u001b[0mquery\u001b[0m\u001b[1;33m,\u001b[0m \u001b[0mparameters\u001b[0m\u001b[1;33m,\u001b[0m \u001b[0mtrace\u001b[0m\u001b[1;33m)\u001b[0m\u001b[1;33m\u001b[0m\u001b[0m\n\u001b[0;32m   1404\u001b[0m         \u001b[1;32mtry\u001b[0m\u001b[1;33m:\u001b[0m\u001b[1;33m\u001b[0m\u001b[0m\n\u001b[1;32m-> 1405\u001b[1;33m             \u001b[0mresult\u001b[0m \u001b[1;33m=\u001b[0m \u001b[0mfuture\u001b[0m\u001b[1;33m.\u001b[0m\u001b[0mresult\u001b[0m\u001b[1;33m(\u001b[0m\u001b[0mtimeout\u001b[0m\u001b[1;33m)\u001b[0m\u001b[1;33m\u001b[0m\u001b[0m\n\u001b[0m\u001b[0;32m   1406\u001b[0m         \u001b[1;32mfinally\u001b[0m\u001b[1;33m:\u001b[0m\u001b[1;33m\u001b[0m\u001b[0m\n\u001b[0;32m   1407\u001b[0m             \u001b[1;32mif\u001b[0m \u001b[0mtrace\u001b[0m\u001b[1;33m:\u001b[0m\u001b[1;33m\u001b[0m\u001b[0m\n",
      "\u001b[1;32m/usr/local/lib/python2.7/dist-packages/cassandra/cluster.pyc\u001b[0m in \u001b[0;36mresult\u001b[1;34m(self, timeout)\u001b[0m\n\u001b[0;32m   2974\u001b[0m                     \u001b[1;32mreturn\u001b[0m \u001b[0mPagedResult\u001b[0m\u001b[1;33m(\u001b[0m\u001b[0mself\u001b[0m\u001b[1;33m,\u001b[0m \u001b[0mself\u001b[0m\u001b[1;33m.\u001b[0m\u001b[0m_final_result\u001b[0m\u001b[1;33m,\u001b[0m \u001b[0mtimeout\u001b[0m\u001b[1;33m)\u001b[0m\u001b[1;33m\u001b[0m\u001b[0m\n\u001b[0;32m   2975\u001b[0m             \u001b[1;32melif\u001b[0m \u001b[0mself\u001b[0m\u001b[1;33m.\u001b[0m\u001b[0m_final_exception\u001b[0m\u001b[1;33m:\u001b[0m\u001b[1;33m\u001b[0m\u001b[0m\n\u001b[1;32m-> 2976\u001b[1;33m                 \u001b[1;32mraise\u001b[0m \u001b[0mself\u001b[0m\u001b[1;33m.\u001b[0m\u001b[0m_final_exception\u001b[0m\u001b[1;33m\u001b[0m\u001b[0m\n\u001b[0m\u001b[0;32m   2977\u001b[0m             \u001b[1;32melse\u001b[0m\u001b[1;33m:\u001b[0m\u001b[1;33m\u001b[0m\u001b[0m\n\u001b[0;32m   2978\u001b[0m                 \u001b[1;32mraise\u001b[0m \u001b[0mOperationTimedOut\u001b[0m\u001b[1;33m(\u001b[0m\u001b[0merrors\u001b[0m\u001b[1;33m=\u001b[0m\u001b[0mself\u001b[0m\u001b[1;33m.\u001b[0m\u001b[0m_errors\u001b[0m\u001b[1;33m,\u001b[0m \u001b[0mlast_host\u001b[0m\u001b[1;33m=\u001b[0m\u001b[0mself\u001b[0m\u001b[1;33m.\u001b[0m\u001b[0m_current_host\u001b[0m\u001b[1;33m)\u001b[0m\u001b[1;33m\u001b[0m\u001b[0m\n",
      "\u001b[1;31mSyntaxException\u001b[0m: <ErrorMessage code=2000 [Syntax error in CQL query] message=\"line 2:64 missing EOF at ','\">"
     ]
    }
   ],
   "source": [
    "for key in d:\n",
    "    hll = hyperloglog.HyperLogLog(0.01)\n",
    "    for item in d[key]:\n",
    "        hll.add(item)\n",
    "    pickled = pickle.dumps(hll).encode(\"hex\")\n",
    "    session.execute(\"\"\"INSERT INTO test (groupID, userGroups, hll)\n",
    "    VALUES (%(groupID)s, %(userGroups)s, %(hll)s)\n",
    "    \"\"\", \n",
    "    {'groupID':key, 'userGroups':d[key], 'hll':pickled }\n",
    "    )"
   ]
  },
  {
   "cell_type": "code",
   "execution_count": 18,
   "metadata": {
    "collapsed": false
   },
   "outputs": [],
   "source": [
    "# MAKE ALL DATA STRUCTURES \n",
    "thresholds = [float(random.randint(20, 80))/100 for i in range(100)]\n",
    "d = {}\n",
    "from sets import Set\n",
    "for j in range(100):\n",
    "    uid = uuid.uuid4()\n",
    "    r = random.random()\n",
    "    for i in range(100):\n",
    "        if r > thresholds[i]: \n",
    "            if i in d:\n",
    "                d[i].add(uid)\n",
    "            else:\n",
    "                d[i]= Set([uid])  \n",
    "                "
   ]
  },
  {
   "cell_type": "code",
   "execution_count": 20,
   "metadata": {
    "collapsed": false
   },
   "outputs": [
    {
     "ename": "NameError",
     "evalue": "name 'pick' is not defined",
     "output_type": "error",
     "traceback": [
      "\u001b[1;31m---------------------------------------------------------------------------\u001b[0m",
      "\u001b[1;31mNameError\u001b[0m                                 Traceback (most recent call last)",
      "\u001b[1;32m<ipython-input-20-c4c794d19b1c>\u001b[0m in \u001b[0;36m<module>\u001b[1;34m()\u001b[0m\n\u001b[0;32m      3\u001b[0m     \u001b[1;32mif\u001b[0m \u001b[0mrow\u001b[0m\u001b[1;33m.\u001b[0m\u001b[0mgroupid\u001b[0m \u001b[1;33m==\u001b[0m \u001b[1;36m10\u001b[0m\u001b[1;33m:\u001b[0m\u001b[1;33m\u001b[0m\u001b[0m\n\u001b[0;32m      4\u001b[0m         \u001b[0mpick\u001b[0m \u001b[1;33m=\u001b[0m \u001b[0mpickle\u001b[0m\u001b[1;33m.\u001b[0m\u001b[0mloads\u001b[0m\u001b[1;33m(\u001b[0m\u001b[0mrow\u001b[0m\u001b[1;33m.\u001b[0m\u001b[0mhll\u001b[0m\u001b[1;33m)\u001b[0m\u001b[1;33m\u001b[0m\u001b[0m\n\u001b[1;32m----> 5\u001b[1;33m \u001b[0mlen\u001b[0m\u001b[1;33m(\u001b[0m\u001b[0mpick\u001b[0m\u001b[1;33m)\u001b[0m\u001b[1;33m\u001b[0m\u001b[0m\n\u001b[0m",
      "\u001b[1;31mNameError\u001b[0m: name 'pick' is not defined"
     ]
    }
   ],
   "source": [
    "results = session.execute(\"SELECT * FROM \" +mytable)\n",
    "for row in results:\n",
    "    if row.groupid == 10:\n",
    "        pick = pickle.loads(row.hll)\n",
    "len(pick)"
   ]
  }
 ],
 "metadata": {
  "kernelspec": {
   "display_name": "Python 2",
   "language": "python",
   "name": "python2"
  },
  "language_info": {
   "codemirror_mode": {
    "name": "ipython",
    "version": 2
   },
   "file_extension": ".py",
   "mimetype": "text/x-python",
   "name": "python",
   "nbconvert_exporter": "python",
   "pygments_lexer": "ipython2",
   "version": "2.7.3"
  }
 },
 "nbformat": 4,
 "nbformat_minor": 0
}
